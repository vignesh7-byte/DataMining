{
  "nbformat": 4,
  "nbformat_minor": 0,
  "metadata": {
    "colab": {
      "provenance": [],
      "authorship_tag": "ABX9TyOLuYaQ+/QMrY8p1tIrmx0G",
      "include_colab_link": true
    },
    "kernelspec": {
      "name": "python3",
      "display_name": "Python 3"
    },
    "language_info": {
      "name": "python"
    }
  },
  "cells": [
    {
      "cell_type": "markdown",
      "metadata": {
        "id": "view-in-github",
        "colab_type": "text"
      },
      "source": [
        "<a href=\"https://colab.research.google.com/github/vignesh7-byte/DataMining/blob/main/adm_lab__06.ipynb\" target=\"_parent\"><img src=\"https://colab.research.google.com/assets/colab-badge.svg\" alt=\"Open In Colab\"/></a>"
      ]
    },
    {
      "cell_type": "code",
      "execution_count": 1,
      "metadata": {
        "colab": {
          "base_uri": "https://localhost:8080/"
        },
        "id": "o9nYHExON0uh",
        "outputId": "9d1cbe05-7930-4f29-8a0b-e619c80f0e8b"
      },
      "outputs": [
        {
          "output_type": "stream",
          "name": "stdout",
          "text": [
            "\n",
            "--- Data Encoding ---\n",
            "  Category  Label_Encoded  Category_A  Category_B  Category_C\n",
            "0        A              0        True       False       False\n",
            "1        B              1       False        True       False\n",
            "2        C              2       False       False        True\n",
            "3        A              0        True       False       False\n",
            "4        B              1       False        True       False\n",
            "\n",
            "--- Creating Derived Columns ---\n",
            "    Name Date_of_Birth  Age\n",
            "0  Alice    1990-05-14   35\n",
            "1    Bob    1985-08-23   40\n",
            "\n",
            "--- Grouping and Aggregating Data ---\n",
            "Grouped Data:\n",
            "          Value      \n",
            "           sum  mean\n",
            "Category            \n",
            "A           30  15.0\n",
            "B           40  20.0\n",
            "C           40  40.0\n",
            "\n",
            "Pivot Table:\n",
            "            sum  mean\n",
            "         Value Value\n",
            "Category            \n",
            "A           30  15.0\n",
            "B           40  20.0\n",
            "C           40  40.0\n"
          ]
        }
      ],
      "source": [
        "import pandas as pd\n",
        "from sklearn.preprocessing import LabelEncoder\n",
        "from datetime import datetime\n",
        "\n",
        "# 1. Data Encoding\n",
        "print(\"\\n--- Data Encoding ---\")\n",
        "# Example data\n",
        "data = {'Category': ['A', 'B', 'C', 'A', 'B']}\n",
        "df = pd.DataFrame(data)\n",
        "\n",
        "# Label Encoding\n",
        "label_encoder = LabelEncoder()\n",
        "df['Label_Encoded'] = label_encoder.fit_transform(df['Category'])\n",
        "\n",
        "# One-hot Encoding\n",
        "one_hot_encoded = pd.get_dummies(df['Category'], prefix='Category')\n",
        "df_encoded = pd.concat([df, one_hot_encoded], axis=1)\n",
        "print(df_encoded)\n",
        "\n",
        "# 2. Creating Derived Columns\n",
        "print(\"\\n--- Creating Derived Columns ---\")\n",
        "data_dob = {'Name': ['Alice', 'Bob'], 'Date_of_Birth': ['1990-05-14', '1985-08-23']}\n",
        "df_dob = pd.DataFrame(data_dob)\n",
        "\n",
        "# Convert Date_of_Birth to datetime\n",
        "df_dob['Date_of_Birth'] = pd.to_datetime(df_dob['Date_of_Birth'])\n",
        "\n",
        "# Calculate Age\n",
        "current_year = datetime.now().year\n",
        "df_dob['Age'] = current_year - df_dob['Date_of_Birth'].dt.year\n",
        "print(df_dob)\n",
        "\n",
        "# 3. Grouping and Aggregating Data\n",
        "print(\"\\n--- Grouping and Aggregating Data ---\")\n",
        "data_group = {'Category': ['A', 'A', 'B', 'B', 'C'], 'Value': [10, 20, 10, 30, 40]}\n",
        "df_group = pd.DataFrame(data_group)\n",
        "\n",
        "# Group by and aggregate\n",
        "grouped = df_group.groupby('Category').agg({'Value': ['sum', 'mean']})\n",
        "print(\"Grouped Data:\\n\", grouped)\n",
        "\n",
        "# Pivot table\n",
        "pivot = df_group.pivot_table(index='Category', values='Value', aggfunc=['sum', 'mean'])\n",
        "print(\"\\nPivot Table:\\n\", pivot)\n"
      ]
    }
  ]
}